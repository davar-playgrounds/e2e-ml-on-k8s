{
 "cells": [
  {
   "cell_type": "code",
   "execution_count": 9,
   "metadata": {
    "tags": [
     "parameters"
    ]
   },
   "outputs": [],
   "source": [
    "model_weights=\"logs/model.h5\"\n",
    "calibration_weights=\"logs/calibration.weights\"\n",
    "hyperparameters=\"logs/optimal_hp.json\"\n",
    "out_dir = \"logs\"\n",
    "input_data_dir=\"tf-data\"\n",
    "batch_size=64"
   ]
  },
  {
   "cell_type": "code",
   "execution_count": null,
   "metadata": {},
   "outputs": [
    {
     "name": "stderr",
     "output_type": "stream",
     "text": [
      "WARNING:root:Found hyperparameter file, loading parameters from it. Overriding batch_size.... \n",
      "New batch_size is: 75\n"
     ]
    }
   ],
   "source": [
    "#!pygmentize evaluate.py\n",
    "%matplotlib inline \n",
    "%run evaluate.py --model_weights $model_weights --calibration_weights $calibration_weights --input $input_data_dir --batch_size $batch_size --hyperparameters $hyperparameters --output $out_dir"
   ]
  }
 ],
 "metadata": {
  "celltoolbar": "Tags",
  "kernelspec": {
   "display_name": "Python 3",
   "language": "python",
   "name": "python3"
  },
  "language_info": {
   "codemirror_mode": {
    "name": "ipython",
    "version": 3
   },
   "file_extension": ".py",
   "mimetype": "text/x-python",
   "name": "python",
   "nbconvert_exporter": "python",
   "pygments_lexer": "ipython3",
   "version": "3.7.3"
  },
  "pycharm": {
   "stem_cell": {
    "cell_type": "raw",
    "source": [],
    "metadata": {
     "collapsed": false
    }
   }
  }
 },
 "nbformat": 4,
 "nbformat_minor": 2
}